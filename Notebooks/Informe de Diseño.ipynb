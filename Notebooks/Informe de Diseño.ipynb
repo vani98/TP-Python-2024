{
 "cells": [
  {
   "cell_type": "markdown",
   "id": "1496450c-633d-4ef9-ab33-c8b60da4cc47",
   "metadata": {},
   "source": [
    "# Informe de Funcionalidad y Diseño"
   ]
  },
  {
   "cell_type": "markdown",
   "id": "880873c8-4cb2-46dc-828b-6955471c11bb",
   "metadata": {},
   "source": [
    "## Introducción\n",
    "Este documento describe la funcionalidad y diseño de un programa desarrollado en Python que interactúa con el usuario mediante la terminal para consultar información financiera. El programa permite buscar datos de Apertura/Cierre Diario, donde se le solicitará el ticker a buscar y una fecha en formato, luego realizará la búsqueda de los datos en la base de datos SQLite o realiza la consulta por medio de una API externa si no están disponibles, para luego permitir la descarga del gráfico de diferencias de precios de entrada y salida de cada ticker para el día correspondiente."
   ]
  },
  {
   "cell_type": "markdown",
   "id": "9a1e5136-1930-40a2-9259-5a4e8e5f6fa9",
   "metadata": {},
   "source": [
    "## Descripción del funcionamiento\n",
    "\n",
    "El programa sigue una lógica secuencial con los siguientes pasos principales:\n",
    "\n",
    "1. Ingreso de datos por el usuario:\n",
    "\n",
    "    - El usuario introduce un ticker y una fecha a través de la terminal.\n",
    "\n",
    "2. Consulta en la base de datos:\n",
    "\n",
    "    - El programa verifica si existen datos relacionados con el ticker y la fecha proporcionados en la base de datos.\n",
    "\n",
    "    - Si los datos están disponibles, los muestra al usuario.\n",
    "\n",
    "3. Consulta a la API:\n",
    "\n",
    "    - Si los datos no se encuentran en la base de datos, el programa consulta una API externa para obtenerlos.\n",
    "\n",
    "    - Si la API devuelve resultados:\n",
    "\n",
    "        - Los datos se muestran al usuario.\n",
    "\n",
    "        - Los datos se guardan en la base de datos para futuras consultas.\n",
    "\n",
    "    - Si la API no tiene información, el programa informa al usuario y solicita una nueva combinación de ticker y fecha.\n",
    "\n",
    "4. Realización del gráfico de diferencias de precios entre tickers:\n",
    "\n",
    "    - Si solamente existe un ticker guardado para la fecha indicada, el programa solicitará al usuario que consulte más tickers para esa fecha.\n",
    "    - Si el programa encuentra más de un ticker para la fecha solicitada muestra el gráfico de diferencia para el día consultado y lo guarda en la carpeta img con el nombre \"grafico\" más la fecha del ticker en formato png.\n",
    "\n",
    "5. Finalización del programa\n",
    "    - Luego de realizar las búsquedas el usuario tiene la posibilidad de detener el programa, se le preguntará si desea seguir consultando y al introducir NO el programa finaliza."
   ]
  },
  {
   "cell_type": "markdown",
   "id": "6562d90c-a489-4bd3-951a-91acee45cc35",
   "metadata": {},
   "source": [
    "## Diseño del programa\n",
    "\n",
    "El programa se organiza en módulos para facilitar su mantenimiento y escalabilidad. Las partes principales son:\n",
    "\n",
    "1. Estructura de archivos:\n",
    "\n",
    "   - app: Contiene los archivos de la aplicación.\n",
    "  \n",
    "       - api_client.py: Contiene las funciones para interactuar con la API.\n",
    "    \n",
    "        - db.py: Gestiona las operaciones con la base de datos.\n",
    "    \n",
    "        - terminal_app.py: Maneja la interacción con el usuario y la lógica principal del programa.\n",
    "    \n",
    "        - utis.py: Contiene funciones generales de utilidad.\n",
    "      \n",
    "        - config.py: Contiene valores de configuración para la aplicación.\n",
    "    - img: Contiene las imágenes graficadas para el usuario.\n",
    "    - notebooks: Contiene las notebooks para pruebas y el informe de diseño.\n",
    "      \n",
    "3. Flujo de datos:\n",
    "    - El usuario interactúa con terminal_app.py.\n",
    "    - Valida los datos utilizando utils.py\n",
    "    - Para verificar la disponibilidad de datos consulta a db.py.\n",
    "    - Si no hay datos en la base de datos, api_client.py realiza una consulta a la API.\n",
    "    - Los resultados de la API, si están disponibles, se guardan mediante db.py.\n",
    "    - Los datos se visualizan en la terminal o mediante gráficos generados en una función alojada en utils.py.\n",
    "      \n",
    "4. Especificaciones técnicas:\n",
    "    - Base de Datos:\n",
    "        - Nombre: financial_data\n",
    "     \n",
    "        - Tabla principal: daily_open_close.\n",
    "     \n",
    "        - Campos: date, ticker, open, close, high, low, volume,  afterHours, preMarket.\n",
    "\n",
    "    - API:\n",
    "  \n",
    "        - Se utiliza la API de polygon.io\n",
    "              \n",
    "    - Gráficos:\n",
    "\n",
    "        - Librería utilizada: matplotlib.\n",
    "\n",
    "        - Tipo de gráfico: De barras para comparar las diferencias entre tickers."
   ]
  },
  {
   "cell_type": "markdown",
   "id": "60cd58d1-09d5-440f-b2db-5ad5ee9772bf",
   "metadata": {},
   "source": [
    "## Consideraciones Adicionales\n",
    "\n",
    "1. Manejo de Errores:\n",
    "\n",
    "    - Validación de entradas del usuario.\n",
    "    - Manejo de excepciones para consultas fallidas a la base de datos o a la API.\n",
    "\n",
    "3. Persistencia:\n",
    "\n",
    "    - Datos obtenidos de la API se almacenan para evitar consultas redundantes.\n",
    "\n",
    "5. Interfaz de Usuario:\n",
    "\n",
    "    - Diseñada para ser intuitiva y guiar al usuario en cada paso del proceso"
   ]
  },
  {
   "cell_type": "markdown",
   "id": "64766bde-d626-4a81-919a-3bf285d613c3",
   "metadata": {},
   "source": [
    "## Conclusión\n",
    "El programa proporciona una solución eficiente para gestionar consultas financieras, integrando la funcionalidad de una base de datos y una API externa con herramientas de visualización. La estructura modular asegura la extensibilidad y el mantenimiento a largo plazo."
   ]
  },
  {
   "cell_type": "code",
   "execution_count": null,
   "id": "78d6f8b7-f59d-47d4-879f-c481076928d0",
   "metadata": {},
   "outputs": [],
   "source": [
    "## Anexo\n",
    "- Ejemplo de salida en la terminal:\n",
    "- Ejemplo de gráfico:"
   ]
  }
 ],
 "metadata": {
  "kernelspec": {
   "display_name": "Python 3 (ipykernel)",
   "language": "python",
   "name": "python3"
  },
  "language_info": {
   "codemirror_mode": {
    "name": "ipython",
    "version": 3
   },
   "file_extension": ".py",
   "mimetype": "text/x-python",
   "name": "python",
   "nbconvert_exporter": "python",
   "pygments_lexer": "ipython3",
   "version": "3.12.7"
  }
 },
 "nbformat": 4,
 "nbformat_minor": 5
}
