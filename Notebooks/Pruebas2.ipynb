{
 "cells": [
  {
   "cell_type": "code",
   "execution_count": 1,
   "id": "7ecc0f41-51ec-493b-9fb7-360d3d25e129",
   "metadata": {},
   "outputs": [
    {
     "ename": "SyntaxError",
     "evalue": "closing parenthesis ']' does not match opening parenthesis '(' (594385205.py, line 1)",
     "output_type": "error",
     "traceback": [
      "\u001b[1;36m  Cell \u001b[1;32mIn[1], line 1\u001b[1;36m\u001b[0m\n\u001b[1;33m    fig, (ax1,ax2) = plt.subplots(1,2,figsize={8,2}] //en subplot define la grilla 1 fila 2 columnas es ese 1,2\u001b[0m\n\u001b[1;37m                                                   ^\u001b[0m\n\u001b[1;31mSyntaxError\u001b[0m\u001b[1;31m:\u001b[0m closing parenthesis ']' does not match opening parenthesis '('\n"
     ]
    }
   ],
   "source": [
    "fig, (ax1,ax2) = plt.subplots(1,2,figsize={8,2}] //en subplot define la grilla 1 fila 2 columnas es ese 1,2\n",
    "\n",
    "ax1.plot{[1,2,3,4],[1,2,3,4]}\n",
    "ax1.plot{[1,2,3,4],[4,3,2,1]}\n",
    "\n",
    "ax2.plot{[1,2,3,4],[1,1,1,1]}"
   ]
  },
  {
   "cell_type": "code",
   "execution_count": 2,
   "id": "3c8caf07-9014-4370-b22f-17b95254de4e",
   "metadata": {},
   "outputs": [
    {
     "ename": "SyntaxError",
     "evalue": "invalid syntax (2886658403.py, line 1)",
     "output_type": "error",
     "traceback": [
      "\u001b[1;36m  Cell \u001b[1;32mIn[2], line 1\u001b[1;36m\u001b[0m\n\u001b[1;33m    fig, ax = plt.subplot(figsize={5,2.7}) // Devuelve 2 objetos la figura (fig completa) y el eje (subgrafico dentro de la figura) El tamaño de la figura es en pulgadas en ancho y alto.\u001b[0m\n\u001b[1;37m                                                       ^\u001b[0m\n\u001b[1;31mSyntaxError\u001b[0m\u001b[1;31m:\u001b[0m invalid syntax\n"
     ]
    }
   ],
   "source": [
    "fig, ax = plt.subplot(figsize={5,2.7}) // Devuelve 2 objetos la figura (fig completa) y el eje (subgrafico dentro de la figura) El tamaño de la figura es en pulgadas en ancho y alto.\n",
    "\n",
    "x = np.linspace(0,2,100) //Arma 100 valores entre 0 y 2\n",
    "ot(x,x,label='lineal') // asocia los datos con una etiqueta\n",
    "ax.plot(x,x**2,label='cuadrática') \n",
    "ax.plot(x,x**3,label='cúbica')\n",
    "ax.set_xlabel('eje x')\n",
    "ax.set_ylabel('eje y')\n",
    "ax.set_title('Un titulo')\n",
    "ax.legend() // para que se muestren los labels de la data"
   ]
  },
  {
   "cell_type": "code",
   "execution_count": null,
   "id": "ed8dc3cf-3063-4c18-9435-e82f9a5bfd5e",
   "metadata": {},
   "outputs": [],
   "source": []
  }
 ],
 "metadata": {
  "kernelspec": {
   "display_name": "Python 3 (ipykernel)",
   "language": "python",
   "name": "python3"
  },
  "language_info": {
   "codemirror_mode": {
    "name": "ipython",
    "version": 3
   },
   "file_extension": ".py",
   "mimetype": "text/x-python",
   "name": "python",
   "nbconvert_exporter": "python",
   "pygments_lexer": "ipython3",
   "version": "3.10.13"
  }
 },
 "nbformat": 4,
 "nbformat_minor": 5
}
