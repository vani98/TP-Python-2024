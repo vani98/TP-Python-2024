{
 "cells": [
  {
   "cell_type": "code",
   "execution_count": 2,
   "id": "ecaa7687-6394-4835-a4f0-758c0565d9e2",
   "metadata": {},
   "outputs": [
    {
     "name": "stdout",
     "output_type": "stream",
     "text": [
      "Símbolo: AAPL\n",
      "Apertura: 130.465\n",
      "Cierre: 130.15\n",
      "Máximo: 133.41\n",
      "Mínimo: 129.89\n",
      "Volumen: 70790813.0\n"
     ]
    }
   ],
   "source": [
    "import requests\n",
    "\n",
    "class DailyStockPrice:\n",
    "    def __init__(self, api_key, ticker, date):\n",
    "        self.api_key = api_key\n",
    "        self.ticker = ticker\n",
    "        self.date = date\n",
    "        self.url = f\"https://api.polygon.io/v1/open-close/{self.ticker}/{self.date}?adjusted=true&apiKey={self.api_key}\"\n",
    "    \n",
    "    def get_data(self):\n",
    "        response = requests.get(self.url)\n",
    "        if response.status_code == 200:\n",
    "            return response.json()\n",
    "        else:\n",
    "            raise Exception(f\"Error: {response.status_code} - {response.text}\")\n",
    "    \n",
    "    def print_data(self):\n",
    "        data = self.get_data()\n",
    "        print(f\"Símbolo: {data['symbol']}\")\n",
    "        print(f\"Apertura: {data['open']}\")\n",
    "        print(f\"Cierre: {data['close']}\")\n",
    "        print(f\"Máximo: {data['high']}\")\n",
    "        print(f\"Mínimo: {data['low']}\")\n",
    "        print(f\"Volumen: {data['volume']}\")\n",
    "\n",
    "# Reemplaza con tu propia clave API\n",
    "api_key = \"whCBWBFZS4d3btxVEy3EAXzMCAzrYHbb\"\n",
    "ticker = \"AAPL\"  # Acción de Apple\n",
    "date = \"2023-01-09\"  # Fecha para la que deseas obtener los datos\n",
    "\n",
    "stock = DailyStockPrice(api_key, ticker, date)\n",
    "stock.print_data()\n"
   ]
  },
  {
   "cell_type": "code",
   "execution_count": null,
   "id": "90037a36-a81d-4e65-a19d-e7528a783322",
   "metadata": {},
   "outputs": [],
   "source": []
  },
  {
   "cell_type": "code",
   "execution_count": null,
   "id": "07264eb9-28e9-4e1f-8ce5-96b40978c622",
   "metadata": {},
   "outputs": [],
   "source": []
  },
  {
   "cell_type": "code",
   "execution_count": null,
   "id": "4306b5f5-1225-4ca1-819e-21f11cb12e9d",
   "metadata": {},
   "outputs": [],
   "source": []
  },
  {
   "cell_type": "code",
   "execution_count": null,
   "id": "02e9c936-9d72-460b-ab72-8c8349b73558",
   "metadata": {},
   "outputs": [],
   "source": []
  }
 ],
 "metadata": {
  "kernelspec": {
   "display_name": "Python 3 (ipykernel)",
   "language": "python",
   "name": "python3"
  },
  "language_info": {
   "codemirror_mode": {
    "name": "ipython",
    "version": 3
   },
   "file_extension": ".py",
   "mimetype": "text/x-python",
   "name": "python",
   "nbconvert_exporter": "python",
   "pygments_lexer": "ipython3",
   "version": "3.10.13"
  }
 },
 "nbformat": 4,
 "nbformat_minor": 5
}
