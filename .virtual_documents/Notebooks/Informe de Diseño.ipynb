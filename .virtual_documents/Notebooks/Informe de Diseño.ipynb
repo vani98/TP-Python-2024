

















## Anexo
- Ejemplo de salida en la terminal:
- Ejemplo de gráfico:
